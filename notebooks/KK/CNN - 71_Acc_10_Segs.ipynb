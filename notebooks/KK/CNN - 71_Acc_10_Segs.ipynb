{
 "cells": [
  {
   "cell_type": "markdown",
   "metadata": {},
   "source": [
    "### Import the Libraries"
   ]
  },
  {
   "cell_type": "code",
   "execution_count": 2,
   "metadata": {},
   "outputs": [],
   "source": [
    "import os\n",
    "import math\n",
    "import pandas as pd\n",
    "import numpy as np\n",
    "\n",
    "import librosa\n",
    "import librosa.display\n",
    "\n",
    "import matplotlib.pyplot as plt\n",
    "\n",
    "from sklearn.model_selection import train_test_split\n",
    "from sklearn.metrics import confusion_matrix\n",
    "\n",
    "import tensorflow.keras as keras\n",
    "import tensorflow as tf\n",
    "\n",
    "from tensorflow.keras.callbacks import EarlyStopping\n",
    "from tensorflow.keras.models import Sequential\n",
    "from tensorflow.python.keras import regularizers\n",
    "\n",
    "data_path = '../audio_data_MFCC/6_segs_per_track_output.npz'"
   ]
  },
  {
   "cell_type": "markdown",
   "metadata": {},
   "source": [
    "### Load and prepare the data"
   ]
  },
  {
   "cell_type": "code",
   "execution_count": 3,
   "metadata": {},
   "outputs": [],
   "source": [
    "def load_data (dataset_path, data1 = 'mfcc', data2 = 'labels'):\n",
    "    \n",
    "    np_file = np.load(dataset_path)\n",
    "    \n",
    "    return np_file[data1], np_file[data2]"
   ]
  },
  {
   "cell_type": "code",
   "execution_count": 4,
   "metadata": {},
   "outputs": [],
   "source": [
    "def prepare_datasets(data_path, test_size, validation_size):\n",
    "    \n",
    "    # load data\n",
    "    X, y = load_data(data_path, 'mfcc', 'labels')\n",
    "    \n",
    "    # create train test split\n",
    "    X_train, X_test, y_train, y_test = train_test_split(X, y, test_size=test_size)\n",
    "    \n",
    "    \n",
    "    # create train/validation split\n",
    "    X_train, X_validation, y_train, y_validation = train_test_split(X_train, \n",
    "                                                                    y_train, \n",
    "                                                                    test_size=validation_size)\n",
    "    \n",
    "    \n",
    "    X_train = X_train[..., np.newaxis] # 4d array -> (num_samples, 130, 13, 1)\n",
    "    X_validation = X_validation[..., np.newaxis]\n",
    "    X_test = X_test[..., np.newaxis]\n",
    "    \n",
    "    return X_train, X_validation, X_test, y_train, y_validation, y_test\n",
    "    "
   ]
  },
  {
   "cell_type": "code",
   "execution_count": 5,
   "metadata": {},
   "outputs": [],
   "source": [
    "X_train, X_validation, X_test, y_train, y_validation, y_test = prepare_datasets('../../audio_data_MFCC/6_segs_per_track_output.npz', 0.25, 0.2)"
   ]
  },
  {
   "cell_type": "markdown",
   "metadata": {},
   "source": [
    "### Define and build the model"
   ]
  },
  {
   "cell_type": "code",
   "execution_count": 6,
   "metadata": {},
   "outputs": [],
   "source": [
    "### Import the necessary layers\n",
    "from tensorflow.keras.layers import Dense, Dropout, Conv2D, MaxPooling2D, BatchNormalization, Flatten"
   ]
  },
  {
   "cell_type": "code",
   "execution_count": 7,
   "metadata": {
    "scrolled": true
   },
   "outputs": [],
   "source": [
    "def build_model(input_shape):\n",
    "\n",
    "    model = Sequential()\n",
    "\n",
    "    # 1st Convulational Layer\n",
    "    model.add(Conv2D(64, (5, 5), activation='relu', input_shape = input_shape))\n",
    "    model.add(MaxPooling2D((3, 3), strides=(2, 2), padding='same'))\n",
    "    model.add(BatchNormalization())\n",
    "\n",
    "    # 2nd Convulational Layer\n",
    "    model.add(Conv2D(64, (3, 3), activation ='relu'))\n",
    "    model.add(MaxPooling2D((3, 3), strides = (2, 2), padding='same'))\n",
    "    model.add(Dropout(0.25))\n",
    "    model.add(BatchNormalization())\n",
    "    \n",
    "    # 3rd Convulational Layer\n",
    "    model.add(Conv2D(32, (2, 2), activation='relu'))\n",
    "    model.add(MaxPooling2D((2, 2), strides=(2, 2), padding='same'))\n",
    "    model.add(BatchNormalization())\n",
    "\n",
    "    \n",
    "    # Flatten the output\n",
    "    model.add(keras.layers.Flatten())\n",
    "    \n",
    "    # Feed it to the dense layer\n",
    "    model.add(keras.layers.Dense(64, activation='relu'))\n",
    "    model.add(keras.layers.Dropout(0.25))\n",
    "\n",
    "    # Output Layer\n",
    "    model.add(keras.layers.Dense(10, activation='softmax'))\n",
    "    \n",
    "    return model"
   ]
  },
  {
   "cell_type": "code",
   "execution_count": 8,
   "metadata": {},
   "outputs": [
    {
     "data": {
      "text/plain": [
       "(3595, 216, 13, 1)"
      ]
     },
     "execution_count": 8,
     "metadata": {},
     "output_type": "execute_result"
    }
   ],
   "source": [
    "X_train.shape"
   ]
  },
  {
   "cell_type": "markdown",
   "metadata": {},
   "source": [
    "### Build and Compile The Model"
   ]
  },
  {
   "cell_type": "code",
   "execution_count": 9,
   "metadata": {},
   "outputs": [],
   "source": [
    "# Build the CNN\n",
    "input_shape = (X_train.shape[1], X_train.shape[2], 1)\n",
    "model = build_model(input_shape)"
   ]
  },
  {
   "cell_type": "code",
   "execution_count": 10,
   "metadata": {},
   "outputs": [],
   "source": [
    "# Begin Compiling\n",
    "optimizer = keras.optimizers.Adam(learning_rate = 0.00015)\n",
    "model.compile(optimizer=optimizer,\n",
    "              loss='sparse_categorical_crossentropy',\n",
    "              metrics=['accuracy'])"
   ]
  },
  {
   "cell_type": "markdown",
   "metadata": {},
   "source": [
    "### Add in an early stop to avoid overtraining"
   ]
  },
  {
   "cell_type": "code",
   "execution_count": 11,
   "metadata": {},
   "outputs": [],
   "source": [
    "early_stop = EarlyStopping(monitor='accuracy', mode='min', verbose=1, patience=25)"
   ]
  },
  {
   "cell_type": "code",
   "execution_count": 12,
   "metadata": {
    "scrolled": true
   },
   "outputs": [
    {
     "name": "stdout",
     "output_type": "stream",
     "text": [
      "Epoch 1/100\n",
      "57/57 [==============================] - 20s 316ms/step - loss: 2.7598 - accuracy: 0.1480 - val_loss: 2.2616 - val_accuracy: 0.2725\n",
      "Epoch 2/100\n",
      "57/57 [==============================] - 17s 299ms/step - loss: 2.0043 - accuracy: 0.3202 - val_loss: 1.7768 - val_accuracy: 0.3582\n",
      "Epoch 3/100\n",
      "57/57 [==============================] - 17s 292ms/step - loss: 1.7259 - accuracy: 0.3881 - val_loss: 1.4654 - val_accuracy: 0.4583\n",
      "Epoch 4/100\n",
      "57/57 [==============================] - 16s 273ms/step - loss: 1.5619 - accuracy: 0.4421 - val_loss: 1.3349 - val_accuracy: 0.5217\n",
      "Epoch 5/100\n",
      "57/57 [==============================] - 14s 245ms/step - loss: 1.4570 - accuracy: 0.4814 - val_loss: 1.2530 - val_accuracy: 0.5484\n",
      "Epoch 6/100\n",
      "57/57 [==============================] - 14s 249ms/step - loss: 1.3481 - accuracy: 0.5132 - val_loss: 1.2438 - val_accuracy: 0.5584\n",
      "Epoch 7/100\n",
      "57/57 [==============================] - 14s 246ms/step - loss: 1.3082 - accuracy: 0.5328 - val_loss: 1.2182 - val_accuracy: 0.5617\n",
      "Epoch 8/100\n",
      "57/57 [==============================] - 14s 248ms/step - loss: 1.2256 - accuracy: 0.5531 - val_loss: 1.2364 - val_accuracy: 0.5484\n",
      "Epoch 9/100\n",
      "57/57 [==============================] - 14s 248ms/step - loss: 1.1578 - accuracy: 0.5866 - val_loss: 1.2235 - val_accuracy: 0.5517\n",
      "Epoch 10/100\n",
      "57/57 [==============================] - 14s 248ms/step - loss: 1.0937 - accuracy: 0.5949 - val_loss: 1.2490 - val_accuracy: 0.5451\n",
      "Epoch 11/100\n",
      "57/57 [==============================] - 14s 246ms/step - loss: 1.0733 - accuracy: 0.6191 - val_loss: 1.1878 - val_accuracy: 0.5562\n",
      "Epoch 12/100\n",
      "57/57 [==============================] - 14s 246ms/step - loss: 1.0193 - accuracy: 0.6372 - val_loss: 1.0983 - val_accuracy: 0.6040\n",
      "Epoch 13/100\n",
      "57/57 [==============================] - 14s 247ms/step - loss: 0.9944 - accuracy: 0.6414 - val_loss: 1.1292 - val_accuracy: 0.5940\n",
      "Epoch 14/100\n",
      "57/57 [==============================] - 14s 249ms/step - loss: 0.9576 - accuracy: 0.6520 - val_loss: 1.0915 - val_accuracy: 0.6096\n",
      "Epoch 15/100\n",
      "57/57 [==============================] - 15s 259ms/step - loss: 0.9305 - accuracy: 0.6650 - val_loss: 1.0466 - val_accuracy: 0.6296\n",
      "Epoch 16/100\n",
      "57/57 [==============================] - 14s 252ms/step - loss: 0.8735 - accuracy: 0.6953 - val_loss: 0.9899 - val_accuracy: 0.6474\n",
      "Epoch 17/100\n",
      "57/57 [==============================] - 14s 242ms/step - loss: 0.8444 - accuracy: 0.6883 - val_loss: 1.0328 - val_accuracy: 0.6296\n",
      "Epoch 18/100\n",
      "57/57 [==============================] - 14s 245ms/step - loss: 0.8170 - accuracy: 0.7130 - val_loss: 1.0899 - val_accuracy: 0.6140\n",
      "Epoch 19/100\n",
      "57/57 [==============================] - 14s 242ms/step - loss: 0.7771 - accuracy: 0.7346 - val_loss: 0.9708 - val_accuracy: 0.6429\n",
      "Epoch 20/100\n",
      "57/57 [==============================] - 14s 242ms/step - loss: 0.7444 - accuracy: 0.7348 - val_loss: 1.0160 - val_accuracy: 0.6385\n",
      "Epoch 21/100\n",
      "57/57 [==============================] - 14s 245ms/step - loss: 0.7662 - accuracy: 0.7349 - val_loss: 0.9543 - val_accuracy: 0.6618\n",
      "Epoch 22/100\n",
      "57/57 [==============================] - 13s 237ms/step - loss: 0.7274 - accuracy: 0.7341 - val_loss: 0.9318 - val_accuracy: 0.6674\n",
      "Epoch 23/100\n",
      "57/57 [==============================] - 14s 246ms/step - loss: 0.6770 - accuracy: 0.7648 - val_loss: 0.9418 - val_accuracy: 0.6585\n",
      "Epoch 24/100\n",
      "57/57 [==============================] - 14s 240ms/step - loss: 0.6443 - accuracy: 0.7775 - val_loss: 0.9629 - val_accuracy: 0.6541\n",
      "Epoch 25/100\n",
      "57/57 [==============================] - 9s 158ms/step - loss: 0.6315 - accuracy: 0.7753 - val_loss: 0.9337 - val_accuracy: 0.6830\n",
      "Epoch 26/100\n",
      "57/57 [==============================] - 8s 144ms/step - loss: 0.6046 - accuracy: 0.7885 - val_loss: 0.9121 - val_accuracy: 0.6819\n",
      "Epoch 00026: early stopping\n"
     ]
    }
   ],
   "source": [
    "history = model.fit(X_train, \n",
    "          y_train, \n",
    "          validation_data = (X_validation, y_validation), \n",
    "          batch_size = 64, \n",
    "          epochs = 100,\n",
    "          callbacks = [early_stop]         \n",
    "          )"
   ]
  },
  {
   "cell_type": "code",
   "execution_count": 13,
   "metadata": {},
   "outputs": [
    {
     "name": "stdout",
     "output_type": "stream",
     "text": [
      "47/47 [==============================] - 1s 16ms/step - loss: 0.8975 - accuracy: 0.7170\n"
     ]
    }
   ],
   "source": [
    "test_error, test_accuracy = model.evaluate(X_test, y_test, verbose=1)"
   ]
  },
  {
   "cell_type": "markdown",
   "metadata": {},
   "source": [
    "### Plot"
   ]
  },
  {
   "cell_type": "code",
   "execution_count": 14,
   "metadata": {},
   "outputs": [],
   "source": [
    "def plot_history(history):\n",
    "    fig, axs = plt.subplots(2)\n",
    "\n",
    "    # create accuracy subplot\n",
    "    axs[0].plot(history.history[\"accuracy\"], label=\"train accuracy\")\n",
    "    axs[0].plot(history.history[\"val_accuracy\"], label=\"test accuracy\")\n",
    "    axs[0].set_ylabel(\"Accuracy\")\n",
    "    axs[0].legend(loc=\"lower right\")\n",
    "    axs[0].set_title(\"Accuracy Eval\")\n",
    "\n",
    "    # create error subplot\n",
    "    axs[1].plot(history.history[\"loss\"], label=\"train error\")\n",
    "    axs[1].plot(history.history[\"val_loss\"], label=\"test error\")\n",
    "    axs[1].set_ylabel(\"Error\")\n",
    "    axs[1].set_xlabel(\"Epoch\")\n",
    "    axs[1].legend(loc=\"upper right\")\n",
    "    axs[1].set_title(\"Error Eval\")\n",
    "\n",
    "    plt.show()"
   ]
  },
  {
   "cell_type": "code",
   "execution_count": 15,
   "metadata": {},
   "outputs": [
    {
     "data": {
      "image/png": "[encoded data removed]",
      "text/plain": [
       "<Figure size 432x288 with 2 Axes>"
      ]
     },
     "metadata": {
      "needs_background": "light"
     },
     "output_type": "display_data"
    }
   ],
   "source": [
    "plot_history(history)"
   ]
  },
  {
   "cell_type": "markdown",
   "metadata": {},
   "source": [
    "### Predict"
   ]
  },
  {
   "cell_type": "code",
   "execution_count": 16,
   "metadata": {},
   "outputs": [
    {
     "name": "stdout",
     "output_type": "stream",
     "text": [
      "47/47 [==============================] - 1s 15ms/step\n"
     ]
    }
   ],
   "source": [
    "predictions = model.predict(X_test, verbose = 1)"
   ]
  },
  {
   "cell_type": "markdown",
   "metadata": {},
   "source": [
    "### Confusion Matrix"
   ]
  },
  {
   "cell_type": "code",
   "execution_count": 17,
   "metadata": {},
   "outputs": [
    {
     "name": "stdout",
     "output_type": "stream",
     "text": [
      "0: 0.162\n",
      "1: 0.104\n",
      "2: 0.213\n",
      "3: 0.06\n",
      "4: 0.116\n",
      "5: 0.258\n",
      "6: 0.159\n",
      "7: 0.127\n",
      "8: 0.177\n",
      "9: 0.122\n"
     ]
    }
   ],
   "source": [
    "### Check the number of predicted values in each class, and append it to the labels_pred list\n",
    "labels_pred = []\n",
    "for i in range(10):\n",
    "    \n",
    "    print(f'{i}: {sum([1 for prediction in predictions if np.argmax(prediction) == i]) / 1000}')\n",
    "    labels_pred.append(sum([1 for prediction in predictions if np.argmax(prediction) == i]) / 1000)"
   ]
  },
  {
   "cell_type": "code",
   "execution_count": 18,
   "metadata": {},
   "outputs": [
    {
     "name": "stdout",
     "output_type": "stream",
     "text": [
      "country: 0.258\n",
      "rock: 0.213\n",
      "disco: 0.177\n",
      "jazz: 0.162\n",
      "metal: 0.159\n",
      "classical: 0.127\n",
      "pop: 0.122\n",
      "hiphop: 0.116\n",
      "reggae: 0.104\n",
      "blues: 0.06\n"
     ]
    }
   ],
   "source": [
    "### Create a genre list \n",
    "genre_list = ['jazz:', 'reggae:', 'rock:', 'blues:', 'hiphop:', 'country:', 'metal:', 'classical:', 'disco:', 'pop:']\n",
    "\n",
    "\n",
    "# Zip the results together\n",
    "results = list(zip(genre_list, labels_pred))\n",
    "\n",
    "# Sort them by second index\n",
    "results = sorted(results, key = lambda x: x[1], reverse = True)\n",
    "\n",
    "# Display the results of the predictionsfor i in results:\n",
    "for i in results:\n",
    "    print (' '.join(map(str, i)))"
   ]
  },
  {
   "cell_type": "markdown",
   "metadata": {},
   "source": [
    "### Save the Model"
   ]
  },
  {
   "cell_type": "code",
   "execution_count": 19,
   "metadata": {},
   "outputs": [],
   "source": [
    "model.save('../models/cnn_model_10_segs_per_track.h5')"
   ]
  },
  {
   "cell_type": "markdown",
   "metadata": {},
   "source": [
    "### Additional Prediction Stuff"
   ]
  },
  {
   "cell_type": "code",
   "execution_count": 26,
   "metadata": {},
   "outputs": [],
   "source": [
    "def predict(model, X_prediction, y_prediction):\n",
    "    \n",
    "    X_prediction = X_prediction[np.newaxis, ...]\n",
    "    \n",
    "    # Plot predictions to a 2D Array\n",
    "    predictions = model.predict(X_prediction)\n",
    "    \n",
    "    predicted_index = np.argmax(predictions, axis=1)\n",
    "    \n",
    "    \n",
    "    print(f'Target: {y_prediction}, Predicted label: {predicted_index}')"
   ]
  },
  {
   "cell_type": "code",
   "execution_count": 27,
   "metadata": {},
   "outputs": [],
   "source": [
    "X_prediction = X_test[100]\n",
    "y_prediction = y_test[100]"
   ]
  },
  {
   "cell_type": "code",
   "execution_count": 28,
   "metadata": {},
   "outputs": [
    {
     "name": "stdout",
     "output_type": "stream",
     "text": [
      "Target: 0, Predicted label: [5]\n"
     ]
    }
   ],
   "source": [
    "pred = predict(model, X_prediction, y_prediction)"
   ]
  },
  {
   "cell_type": "code",
   "execution_count": null,
   "metadata": {},
   "outputs": [],
   "source": []
  },
  {
   "cell_type": "code",
   "execution_count": null,
   "metadata": {},
   "outputs": [],
   "source": []
  },
  {
   "cell_type": "code",
   "execution_count": null,
   "metadata": {},
   "outputs": [],
   "source": []
  }
 ],
 "metadata": {
  "kernelspec": {
   "display_name": "Python 3",
   "language": "python",
   "name": "python3"
  },
  "language_info": {
   "codemirror_mode": {
    "name": "ipython",
    "version": 3
   },
   "file_extension": ".py",
   "mimetype": "text/x-python",
   "name": "python",
   "nbconvert_exporter": "python",
   "pygments_lexer": "ipython3",
   "version": "3.8.5"
  }
 },
 "nbformat": 4,
 "nbformat_minor": 4
}
