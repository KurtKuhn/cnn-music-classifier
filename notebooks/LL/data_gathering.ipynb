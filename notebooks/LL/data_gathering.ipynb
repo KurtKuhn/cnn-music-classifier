{
 "cells": [
  {
   "cell_type": "code",
   "execution_count": 3,
   "metadata": {},
   "outputs": [],
   "source": [
    "import os\n",
    "import math\n",
    "import json\n",
    "import pandas as pd\n",
    "import numpy as np\n",
    "import librosa\n",
    "import librosa.display\n",
    "import matplotlib.pyplot as plt\n",
    "from sklearn.model_selection import train_test_split\n",
    "from sklearn.metrics import confusion_matrix\n",
    "import tensorflow.keras as keras\n",
    "import tensorflow as tf\n",
    "import pickle"
   ]
  },
  {
   "cell_type": "code",
   "execution_count": 11,
   "metadata": {},
   "outputs": [],
   "source": [
    "# save mfcc and label data into numpy arrays\n",
    "def save_mfcc(dataset_path,  \n",
    "                      track_duration=30, \n",
    "                      sr=22050, \n",
    "                      n_mfcc=13, \n",
    "                      n_fft=2048, \n",
    "                      hop_length=512, \n",
    "                      num_segments=10):\n",
    "\n",
    "    mfcc_data = []\n",
    "    labels = []\n",
    "    # mapping of labels to integers\n",
    "    label_dict = {\n",
    "        'jazz': 0,\n",
    "        'reggae': 1,\n",
    "        'rock': 2,\n",
    "        'blues': 3,\n",
    "        'hiphop': 4,\n",
    "        'country': 5,\n",
    "        'metal': 6,\n",
    "        'classical': 7,\n",
    "        'disco': 8,\n",
    "        'pop': 9\n",
    "    }\n",
    "    \n",
    "    samples_per_track = sr * track_duration\n",
    "    num_samples_per_segment = int(samples_per_track / num_segments)\n",
    "    expected_num_mfcc_per_segment = math.ceil(num_samples_per_segment / hop_length)\n",
    "    \n",
    "    # loop through files\n",
    "    for file in os.scandir(dataset_path):\n",
    "        \n",
    "        # parse file name for genre\n",
    "        label_key = file.name.split('.')[0]\n",
    "        \n",
    "        # store integer label for genre\n",
    "        label = label_dict[label_key]\n",
    "        \n",
    "        # process files\n",
    "        signal, sr = librosa.load(file, sr=sr)\n",
    "        \n",
    "        # process segments and extract mfccs\n",
    "        for s in range(num_segments):\n",
    "            start_sample = num_samples_per_segment * s\n",
    "            finish_sample = start_sample + num_samples_per_segment\n",
    "            \n",
    "            #store mfcc for segment if has correct vector length\n",
    "            mfcc = librosa.feature.mfcc(signal[start_sample:finish_sample], \n",
    "                                        sr=sr,\n",
    "                                        n_fft=n_fft,\n",
    "                                        n_mfcc=n_mfcc, \n",
    "                                        hop_length=hop_length)\n",
    "            mfcc = mfcc.T\n",
    "            \n",
    "            if len(mfcc) == expected_num_mfcc_per_segment:\n",
    "                mfcc_data.append(mfcc.tolist())\n",
    "                labels.append(label)\n",
    "                \n",
    "    mfcc_data = np.array(mfcc_data)\n",
    "    labels = np.array(labels)\n",
    "\n",
    "    return mfcc_data, labels\n",
    "    "
   ]
  },
  {
   "cell_type": "code",
   "execution_count": 12,
   "metadata": {},
   "outputs": [],
   "source": [
    "mfcc, labels = save_mfcc('../../audio_files')"
   ]
  },
  {
   "cell_type": "code",
   "execution_count": 13,
   "metadata": {},
   "outputs": [
    {
     "data": {
      "text/plain": [
       "(9996, 13)"
      ]
     },
     "execution_count": 13,
     "metadata": {},
     "output_type": "execute_result"
    }
   ],
   "source": [
    "mfcc.shape"
   ]
  },
  {
   "cell_type": "code",
   "execution_count": 7,
   "metadata": {},
   "outputs": [
    {
     "data": {
      "text/plain": [
       "(9996,)"
      ]
     },
     "execution_count": 7,
     "metadata": {},
     "output_type": "execute_result"
    }
   ],
   "source": [
    "labels.shape\n"
   ]
  },
  {
   "cell_type": "code",
   "execution_count": 9,
   "metadata": {},
   "outputs": [],
   "source": [
    "# save np arrats into npz archive\n",
    "np.savez('../data/data.npz', mfcc=mfcc, labels=labels)"
   ]
  }
 ],
 "metadata": {
  "kernelspec": {
   "display_name": "cnn-music-classifier",
   "language": "python",
   "name": "cnn-music-classifier"
  },
  "language_info": {
   "codemirror_mode": {
    "name": "ipython",
    "version": 3
   },
   "file_extension": ".py",
   "mimetype": "text/x-python",
   "name": "python",
   "nbconvert_exporter": "python",
   "pygments_lexer": "ipython3",
   "version": "3.7.9"
  }
 },
 "nbformat": 4,
 "nbformat_minor": 4
}
