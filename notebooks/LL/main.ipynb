{
 "cells": [
  {
   "cell_type": "code",
   "execution_count": 2,
   "metadata": {},
   "outputs": [],
   "source": [
    "import os\n",
    "import math\n",
    "import json\n",
    "import pandas as pd\n",
    "import numpy as np\n",
    "import librosa\n",
    "import librosa.display\n",
    "import matplotlib.pyplot as plt\n",
    "from sklearn.model_selection import train_test_split\n",
    "from sklearn.metrics import confusion_matrix\n",
    "import tensorflow.keras as keras\n",
    "import tensorflow as tf\n"
   ]
  },
  {
   "cell_type": "code",
   "execution_count": null,
   "metadata": {},
   "outputs": [],
   "source": []
  },
  {
   "cell_type": "code",
   "execution_count": 3,
   "metadata": {},
   "outputs": [],
   "source": [
    "gpus = tf.config.experimental.list_physical_devices('GPU')\n",
    "if gpus:\n",
    "  try:\n",
    "    # Currently, memory growth needs to be the same across GPUs\n",
    "    for gpu in gpus:\n",
    "      tf.config.experimental.set_memory_growth(gpu, True)\n",
    "    logical_gpus = tf.config.experimental.list_logical_devices('GPU')\n",
    "    print(len(gpus), \"Physical GPUs,\", len(logical_gpus), \"Logical GPUs\")\n",
    "  except RuntimeError as e:\n",
    "    # Memory growth must be set before GPUs have been initialized\n",
    "    print(e)"
   ]
  },
  {
   "cell_type": "code",
   "execution_count": 4,
   "metadata": {},
   "outputs": [],
   "source": [
    "def save_mfcc_to_json(dataset_path, \n",
    "                      json_path, \n",
    "                      track_duration=30, \n",
    "                      sr=22050, \n",
    "                      n_mfcc=13, \n",
    "                      n_fft=2048, \n",
    "                      hop_length=512, \n",
    "                      num_segments=10):\n",
    "    # dictionary to store data\n",
    "    data = {\n",
    "        \"mapping\": [],\n",
    "        \"mfcc\": [],\n",
    "        \"labels\": []\n",
    "    }\n",
    "    \n",
    "    # mapping of labels to integers\n",
    "    label_dict = {\n",
    "        'jazz': 0,\n",
    "        'reggae': 1,\n",
    "        'rock': 2,\n",
    "        'blues': 3,\n",
    "        'hiphop': 4,\n",
    "        'country': 5,\n",
    "        'metal': 6,\n",
    "        'classical': 7,\n",
    "        'disco': 8,\n",
    "        'pop': 9\n",
    "    }\n",
    "    \n",
    "    samples_per_track = sr * track_duration\n",
    "    num_samples_per_segment = int(samples_per_track / num_segments)\n",
    "    expected_num_mfcc_per_segment = math.ceil(num_samples_per_segment / hop_length)\n",
    "    \n",
    "    # loop through files\n",
    "    for file in os.scandir(dataset_path):\n",
    "        \n",
    "        # save semantic label\n",
    "        data['mapping'].append(file.name.split('.')[0])\n",
    "        \n",
    "        # process files\n",
    "        signal, sr = librosa.load(file, sr=sr)\n",
    "        \n",
    "        # process segments and extract mfccs\n",
    "        for s in range(num_segments):\n",
    "            start_sample = num_samples_per_segment * s\n",
    "            finish_sample = start_sample + num_samples_per_segment\n",
    "            \n",
    "            #store mfcc for segment if has correct vector length\n",
    "            mfcc = librosa.feature.mfcc(signal[start_sample:finish_sample], \n",
    "                                        sr=sr,\n",
    "                                        n_fft=n_fft,\n",
    "                                        n_mfcc=n_mfcc, \n",
    "                                        hop_length=hop_length)\n",
    "            \n",
    "            mfcc = mfcc.T\n",
    "            \n",
    "            # make sure mfcc vectors are the same length (they could vary)\n",
    "            if len(mfcc) == expected_num_mfcc_per_segment:\n",
    "                data['mfcc'].append(mfcc.tolist())\n",
    "                data[\"labels\"].append(label_dict[data['mapping'][-1]])\n",
    "            \n",
    "    with open(json_path, \"w\") as fp:\n",
    "        json.dump(data, fp, indent=4)\n",
    "        \n",
    "    "
   ]
  },
  {
   "cell_type": "code",
   "execution_count": 5,
   "metadata": {},
   "outputs": [],
   "source": [
    "save_mfcc_to_json('../../audio_files', '../data/data.json')"
   ]
  },
  {
   "cell_type": "code",
   "execution_count": 6,
   "metadata": {},
   "outputs": [],
   "source": [
    "def load_data_from_json(dataset_path):\n",
    "    with open(dataset_path, 'r') as fp:\n",
    "        data = json.load(fp)\n",
    "    \n",
    "    inputs = np.array(data[\"mfcc\"])\n",
    "    targets = np.array(data['labels'])\n",
    "    \n",
    "    return inputs, targets"
   ]
  },
  {
   "cell_type": "code",
   "execution_count": 8,
   "metadata": {},
   "outputs": [
    {
     "data": {
      "text/plain": [
       "(9996, 130, 13)"
      ]
     },
     "execution_count": 8,
     "metadata": {},
     "output_type": "execute_result"
    }
   ],
   "source": [
    "X, y = load_data_from_json('../data/data.json')\n",
    "X.shape\n"
   ]
  },
  {
   "cell_type": "code",
   "execution_count": 10,
   "metadata": {},
   "outputs": [],
   "source": [
    "def prepare_datasets(data_path, test_size, validation_size):\n",
    "    \n",
    "    # load data\n",
    "    X, y = load_data_from_json(data_path)\n",
    "    \n",
    "    # create train test split\n",
    "    X_train, X_test, y_train, y_test = train_test_split(X, y, test_size=test_size)\n",
    "    \n",
    "    \n",
    "    # create train/validation split\n",
    "    X_train, X_validation, y_train, y_validation = train_test_split(X_train, \n",
    "                                                                    y_train, \n",
    "                                                                    test_size=validation_size)\n",
    "    \n",
    "    \n",
    "    X_train = X_train[..., np.newaxis] # 4d array -> (num_samples, 130, 13, 1)\n",
    "    X_validation = X_validation[..., np.newaxis]\n",
    "    X_test = X_test[..., np.newaxis]\n",
    "    \n",
    "    return X_train, X_validation, X_test, y_train, y_validation, y_test\n",
    "    "
   ]
  },
  {
   "cell_type": "code",
   "execution_count": 11,
   "metadata": {},
   "outputs": [],
   "source": [
    "X_train, X_validation, X_test, y_train, y_validation, y_test = prepare_datasets('../data/data.json', 0.25, 0.2)"
   ]
  },
  {
   "cell_type": "code",
   "execution_count": 251,
   "metadata": {},
   "outputs": [],
   "source": [
    "def build_model(input_shape):\n",
    "    # create model\n",
    "    model = keras.Sequential()\n",
    "    \n",
    "    # 1st conv layer\n",
    "    model.add(keras.layers.Conv2D(32, (3, 3), activation='relu', input_shape=input_shape))\n",
    "    model.add(keras.layers.MaxPool2D((3, 3), strides=(2, 2), padding='same'))\n",
    "    model.add(keras.layers.BatchNormalization())\n",
    "    \n",
    "    # 2nd conv layer\n",
    "    model.add(keras.layers.Conv2D(32, (3, 3), activation='relu', input_shape=input_shape))\n",
    "    model.add(keras.layers.MaxPool2D((3, 3), strides=(2, 2), padding='same'))\n",
    "    model.add(keras.layers.BatchNormalization())\n",
    "    model.add(keras.layers.Dropout(0.3))\n",
    "    \n",
    "    # 3rd conv layer\n",
    "    model.add(keras.layers.Conv2D(32, (2, 2), activation='relu', input_shape=input_shape))\n",
    "    model.add(keras.layers.MaxPool2D((2, 2), strides=(2, 2), padding='same'))\n",
    "    model.add(keras.layers.BatchNormalization())\n",
    "    \n",
    "    # flatten the output and feed into dense layer\n",
    "    model.add(keras.layers.Flatten())\n",
    "    model.add(keras.layers.Dense(64, activation='relu'))\n",
    "    model.add(keras.layers.Dropout(0.5))\n",
    "    model.add(keras.layers.Dense(32, activation='relu'))\n",
    "    \n",
    "    \n",
    "    # output layer (softmax)\n",
    "    model.add(keras.layers.Dense(10, activation='softmax'))\n",
    "    return model\n",
    "    \n",
    "    "
   ]
  },
  {
   "cell_type": "code",
   "execution_count": 252,
   "metadata": {},
   "outputs": [
    {
     "data": {
      "text/plain": [
       "(5997, 130, 13, 1)"
      ]
     },
     "execution_count": 252,
     "metadata": {},
     "output_type": "execute_result"
    }
   ],
   "source": [
    "X_train.shape"
   ]
  },
  {
   "cell_type": "code",
   "execution_count": 253,
   "metadata": {},
   "outputs": [],
   "source": [
    "# build CNN model\n",
    "input_shape = (X_train.shape[1], X_train.shape[2], X_train.shape[3])\n",
    "model = build_model(input_shape)"
   ]
  },
  {
   "cell_type": "code",
   "execution_count": 254,
   "metadata": {},
   "outputs": [],
   "source": [
    "# compile model\n",
    "optimizer = keras.optimizers.Adam(learning_rate=0.0002)\n",
    "model.compile(optimizer=optimizer,\n",
    "              loss='sparse_categorical_crossentropy',\n",
    "              metrics=['accuracy'])"
   ]
  },
  {
   "cell_type": "code",
   "execution_count": 255,
   "metadata": {},
   "outputs": [
    {
     "name": "stdout",
     "output_type": "stream",
     "text": [
      "Train on 5997 samples, validate on 1500 samples\n",
      "Epoch 1/70\n",
      "5997/5997 [==============================] - 1s 209us/sample - loss: 1.9972 - accuracy: 0.3063 - val_loss: 1.5500 - val_accuracy: 0.4433\n",
      "Epoch 2/70\n",
      "5997/5997 [==============================] - 1s 107us/sample - loss: 1.5468 - accuracy: 0.4442 - val_loss: 1.3402 - val_accuracy: 0.4873\n",
      "Epoch 3/70\n",
      "5997/5997 [==============================] - 1s 111us/sample - loss: 1.4002 - accuracy: 0.4952 - val_loss: 1.1488 - val_accuracy: 0.6027\n",
      "Epoch 4/70\n",
      "5997/5997 [==============================] - 1s 116us/sample - loss: 1.3041 - accuracy: 0.5276 - val_loss: 1.0973 - val_accuracy: 0.6007\n",
      "Epoch 5/70\n",
      "5997/5997 [==============================] - 1s 112us/sample - loss: 1.2322 - accuracy: 0.5644 - val_loss: 1.1835 - val_accuracy: 0.5520\n",
      "Epoch 6/70\n",
      "5997/5997 [==============================] - 1s 106us/sample - loss: 1.1783 - accuracy: 0.5768 - val_loss: 0.9750 - val_accuracy: 0.6467\n",
      "Epoch 7/70\n",
      "5997/5997 [==============================] - 1s 113us/sample - loss: 1.1036 - accuracy: 0.6065 - val_loss: 0.9340 - val_accuracy: 0.6607\n",
      "Epoch 8/70\n",
      "5997/5997 [==============================] - 1s 110us/sample - loss: 1.0702 - accuracy: 0.6248 - val_loss: 1.1649 - val_accuracy: 0.5887\n",
      "Epoch 9/70\n",
      "5997/5997 [==============================] - 1s 107us/sample - loss: 1.0308 - accuracy: 0.6470 - val_loss: 0.9381 - val_accuracy: 0.6453\n",
      "Epoch 10/70\n",
      "5997/5997 [==============================] - 1s 115us/sample - loss: 0.9931 - accuracy: 0.6508 - val_loss: 0.8496 - val_accuracy: 0.6960\n",
      "Epoch 11/70\n",
      "5997/5997 [==============================] - 1s 108us/sample - loss: 0.9493 - accuracy: 0.6660 - val_loss: 0.9456 - val_accuracy: 0.6667\n",
      "Epoch 12/70\n",
      "5997/5997 [==============================] - 1s 107us/sample - loss: 0.9145 - accuracy: 0.6773 - val_loss: 0.8698 - val_accuracy: 0.6960\n",
      "Epoch 13/70\n",
      "5997/5997 [==============================] - 1s 107us/sample - loss: 0.9198 - accuracy: 0.6740 - val_loss: 0.9261 - val_accuracy: 0.6607\n",
      "Epoch 14/70\n",
      "5997/5997 [==============================] - 1s 113us/sample - loss: 0.8818 - accuracy: 0.6882 - val_loss: 0.8685 - val_accuracy: 0.6847\n",
      "Epoch 15/70\n",
      "5997/5997 [==============================] - 1s 106us/sample - loss: 0.8631 - accuracy: 0.6988 - val_loss: 0.8587 - val_accuracy: 0.6913\n",
      "Epoch 16/70\n",
      "5997/5997 [==============================] - 1s 107us/sample - loss: 0.8367 - accuracy: 0.7034 - val_loss: 0.8115 - val_accuracy: 0.7187\n",
      "Epoch 17/70\n",
      "5997/5997 [==============================] - 1s 115us/sample - loss: 0.8261 - accuracy: 0.7109 - val_loss: 0.8961 - val_accuracy: 0.6893\n",
      "Epoch 18/70\n",
      "5997/5997 [==============================] - 1s 117us/sample - loss: 0.8148 - accuracy: 0.7149 - val_loss: 0.9640 - val_accuracy: 0.6700\n",
      "Epoch 19/70\n",
      "5997/5997 [==============================] - 1s 108us/sample - loss: 0.7837 - accuracy: 0.7200 - val_loss: 0.7912 - val_accuracy: 0.7107\n",
      "Epoch 20/70\n",
      "5997/5997 [==============================] - 1s 113us/sample - loss: 0.7644 - accuracy: 0.7355 - val_loss: 0.8390 - val_accuracy: 0.7113\n",
      "Epoch 21/70\n",
      "5997/5997 [==============================] - 1s 107us/sample - loss: 0.7617 - accuracy: 0.7365 - val_loss: 0.7816 - val_accuracy: 0.7253\n",
      "Epoch 22/70\n",
      "5997/5997 [==============================] - 1s 107us/sample - loss: 0.7365 - accuracy: 0.7462 - val_loss: 0.6996 - val_accuracy: 0.7533\n",
      "Epoch 23/70\n",
      "5997/5997 [==============================] - 1s 106us/sample - loss: 0.7154 - accuracy: 0.7494 - val_loss: 0.8472 - val_accuracy: 0.7073\n",
      "Epoch 24/70\n",
      "5997/5997 [==============================] - 1s 107us/sample - loss: 0.6964 - accuracy: 0.7559 - val_loss: 0.8281 - val_accuracy: 0.7100\n",
      "Epoch 25/70\n",
      "5997/5997 [==============================] - 1s 114us/sample - loss: 0.7118 - accuracy: 0.7549 - val_loss: 0.6942 - val_accuracy: 0.7653\n",
      "Epoch 26/70\n",
      "5997/5997 [==============================] - 1s 114us/sample - loss: 0.7059 - accuracy: 0.7570 - val_loss: 0.7496 - val_accuracy: 0.7340\n",
      "Epoch 27/70\n",
      "5997/5997 [==============================] - 1s 110us/sample - loss: 0.6694 - accuracy: 0.7649 - val_loss: 0.6945 - val_accuracy: 0.7593\n",
      "Epoch 28/70\n",
      "5997/5997 [==============================] - 1s 111us/sample - loss: 0.6351 - accuracy: 0.7794 - val_loss: 0.7418 - val_accuracy: 0.7427\n",
      "Epoch 29/70\n",
      "5997/5997 [==============================] - 1s 106us/sample - loss: 0.6555 - accuracy: 0.7644 - val_loss: 0.7624 - val_accuracy: 0.7400\n",
      "Epoch 30/70\n",
      "5997/5997 [==============================] - 1s 110us/sample - loss: 0.6334 - accuracy: 0.7834 - val_loss: 0.6837 - val_accuracy: 0.7680\n",
      "Epoch 31/70\n",
      "5997/5997 [==============================] - 1s 111us/sample - loss: 0.6369 - accuracy: 0.7754 - val_loss: 0.7188 - val_accuracy: 0.7647\n",
      "Epoch 32/70\n",
      "5997/5997 [==============================] - 1s 113us/sample - loss: 0.6224 - accuracy: 0.7836 - val_loss: 0.6679 - val_accuracy: 0.7780\n",
      "Epoch 33/70\n",
      "5997/5997 [==============================] - 1s 106us/sample - loss: 0.6184 - accuracy: 0.7812 - val_loss: 0.6878 - val_accuracy: 0.7667\n",
      "Epoch 34/70\n",
      "5997/5997 [==============================] - 1s 114us/sample - loss: 0.5971 - accuracy: 0.7959 - val_loss: 0.7573 - val_accuracy: 0.7453\n",
      "Epoch 35/70\n",
      "5997/5997 [==============================] - 1s 109us/sample - loss: 0.5944 - accuracy: 0.7901 - val_loss: 0.9165 - val_accuracy: 0.7080\n",
      "Epoch 36/70\n",
      "5997/5997 [==============================] - 1s 118us/sample - loss: 0.5962 - accuracy: 0.7947 - val_loss: 0.6815 - val_accuracy: 0.7720\n",
      "Epoch 37/70\n",
      "5997/5997 [==============================] - 1s 119us/sample - loss: 0.5915 - accuracy: 0.7916 - val_loss: 0.9948 - val_accuracy: 0.6907\n",
      "Epoch 38/70\n",
      "5997/5997 [==============================] - 1s 116us/sample - loss: 0.5820 - accuracy: 0.7937 - val_loss: 0.8005 - val_accuracy: 0.7433\n",
      "Epoch 39/70\n",
      "5997/5997 [==============================] - 1s 113us/sample - loss: 0.5637 - accuracy: 0.8067 - val_loss: 0.7260 - val_accuracy: 0.7667\n",
      "Epoch 40/70\n",
      "5997/5997 [==============================] - 1s 114us/sample - loss: 0.5788 - accuracy: 0.8024 - val_loss: 0.8481 - val_accuracy: 0.7240\n",
      "Epoch 41/70\n",
      "5997/5997 [==============================] - 1s 112us/sample - loss: 0.5694 - accuracy: 0.8051 - val_loss: 0.6853 - val_accuracy: 0.7747\n",
      "Epoch 42/70\n",
      "5997/5997 [==============================] - 1s 115us/sample - loss: 0.5518 - accuracy: 0.8051 - val_loss: 0.6409 - val_accuracy: 0.7900\n",
      "Epoch 43/70\n",
      "5997/5997 [==============================] - 1s 115us/sample - loss: 0.5728 - accuracy: 0.7954 - val_loss: 0.6305 - val_accuracy: 0.7927\n",
      "Epoch 44/70\n",
      "5997/5997 [==============================] - 1s 118us/sample - loss: 0.5464 - accuracy: 0.8082 - val_loss: 0.6932 - val_accuracy: 0.7727\n",
      "Epoch 45/70\n",
      "5997/5997 [==============================] - 1s 117us/sample - loss: 0.5448 - accuracy: 0.8109 - val_loss: 0.7142 - val_accuracy: 0.7767\n",
      "Epoch 46/70\n",
      "5997/5997 [==============================] - 1s 119us/sample - loss: 0.5381 - accuracy: 0.8144 - val_loss: 0.7238 - val_accuracy: 0.7647\n",
      "Epoch 47/70\n",
      "5997/5997 [==============================] - 1s 119us/sample - loss: 0.5238 - accuracy: 0.8146 - val_loss: 0.6623 - val_accuracy: 0.7887\n",
      "Epoch 48/70\n",
      "5997/5997 [==============================] - 1s 115us/sample - loss: 0.5233 - accuracy: 0.8157 - val_loss: 0.7032 - val_accuracy: 0.7773\n",
      "Epoch 49/70\n",
      "5997/5997 [==============================] - 1s 115us/sample - loss: 0.5128 - accuracy: 0.8221 - val_loss: 0.7115 - val_accuracy: 0.7767\n",
      "Epoch 50/70\n",
      "5997/5997 [==============================] - 1s 115us/sample - loss: 0.5286 - accuracy: 0.8174 - val_loss: 0.7237 - val_accuracy: 0.7733\n",
      "Epoch 51/70\n",
      "5997/5997 [==============================] - 1s 117us/sample - loss: 0.5032 - accuracy: 0.8231 - val_loss: 0.7847 - val_accuracy: 0.7480\n",
      "Epoch 52/70\n",
      "5997/5997 [==============================] - 1s 117us/sample - loss: 0.5128 - accuracy: 0.8181 - val_loss: 0.6829 - val_accuracy: 0.7733\n",
      "Epoch 53/70\n",
      "5997/5997 [==============================] - 1s 118us/sample - loss: 0.5147 - accuracy: 0.8207 - val_loss: 0.7854 - val_accuracy: 0.7587\n",
      "Epoch 54/70\n",
      "5997/5997 [==============================] - 1s 116us/sample - loss: 0.5078 - accuracy: 0.8286 - val_loss: 0.7080 - val_accuracy: 0.7760\n",
      "Epoch 55/70\n",
      "5997/5997 [==============================] - 1s 115us/sample - loss: 0.4915 - accuracy: 0.8306 - val_loss: 0.7345 - val_accuracy: 0.7747\n"
     ]
    },
    {
     "name": "stdout",
     "output_type": "stream",
     "text": [
      "Epoch 56/70\n",
      "5997/5997 [==============================] - 1s 110us/sample - loss: 0.4805 - accuracy: 0.8316 - val_loss: 0.8094 - val_accuracy: 0.7547\n",
      "Epoch 57/70\n",
      "5997/5997 [==============================] - 1s 120us/sample - loss: 0.4880 - accuracy: 0.8321 - val_loss: 0.8526 - val_accuracy: 0.7380\n",
      "Epoch 58/70\n",
      "5997/5997 [==============================] - 1s 117us/sample - loss: 0.4704 - accuracy: 0.8359 - val_loss: 0.7845 - val_accuracy: 0.7633\n",
      "Epoch 59/70\n",
      "5997/5997 [==============================] - 1s 115us/sample - loss: 0.4604 - accuracy: 0.8381 - val_loss: 0.7232 - val_accuracy: 0.7833\n",
      "Epoch 60/70\n",
      "5997/5997 [==============================] - 1s 114us/sample - loss: 0.4744 - accuracy: 0.8336 - val_loss: 0.6605 - val_accuracy: 0.7947\n",
      "Epoch 61/70\n",
      "5997/5997 [==============================] - 1s 115us/sample - loss: 0.4889 - accuracy: 0.8289 - val_loss: 0.6695 - val_accuracy: 0.7913\n",
      "Epoch 62/70\n",
      "5997/5997 [==============================] - 1s 119us/sample - loss: 0.4761 - accuracy: 0.8307 - val_loss: 0.9290 - val_accuracy: 0.7407\n",
      "Epoch 63/70\n",
      "5997/5997 [==============================] - 1s 114us/sample - loss: 0.4714 - accuracy: 0.8358 - val_loss: 0.7231 - val_accuracy: 0.7813\n",
      "Epoch 64/70\n",
      "5997/5997 [==============================] - 1s 121us/sample - loss: 0.4600 - accuracy: 0.8381 - val_loss: 0.6418 - val_accuracy: 0.7947\n",
      "Epoch 65/70\n",
      "5997/5997 [==============================] - 1s 113us/sample - loss: 0.4609 - accuracy: 0.8373 - val_loss: 0.7058 - val_accuracy: 0.7847\n",
      "Epoch 66/70\n",
      "5997/5997 [==============================] - 1s 119us/sample - loss: 0.4637 - accuracy: 0.8391 - val_loss: 0.7905 - val_accuracy: 0.7600\n",
      "Epoch 67/70\n",
      "5997/5997 [==============================] - 1s 118us/sample - loss: 0.4454 - accuracy: 0.8438 - val_loss: 0.7326 - val_accuracy: 0.7900\n",
      "Epoch 68/70\n",
      "5997/5997 [==============================] - 1s 113us/sample - loss: 0.4461 - accuracy: 0.8418 - val_loss: 0.6696 - val_accuracy: 0.7860\n",
      "Epoch 69/70\n",
      "5997/5997 [==============================] - 1s 113us/sample - loss: 0.4528 - accuracy: 0.8416 - val_loss: 0.8619 - val_accuracy: 0.7500\n",
      "Epoch 70/70\n",
      "5997/5997 [==============================] - 1s 114us/sample - loss: 0.4366 - accuracy: 0.8501 - val_loss: 0.7764 - val_accuracy: 0.7680\n"
     ]
    }
   ],
   "source": [
    "history = model.fit(X_train, \n",
    "          y_train, \n",
    "          validation_data=(X_validation, y_validation), \n",
    "          batch_size=32, \n",
    "          epochs=70)"
   ]
  },
  {
   "cell_type": "code",
   "execution_count": 246,
   "metadata": {},
   "outputs": [
    {
     "name": "stdout",
     "output_type": "stream",
     "text": [
      "2499/2499 [==============================] - 0s 53us/sample - loss: 0.7540 - accuracy: 0.7367\n"
     ]
    }
   ],
   "source": [
    "test_error, test_accuracy = model.evaluate(X_test, y_test, verbose=1)\n"
   ]
  },
  {
   "cell_type": "code",
   "execution_count": 177,
   "metadata": {},
   "outputs": [
    {
     "data": {
      "text/plain": [
       "(130, 13, 1)"
      ]
     },
     "execution_count": 177,
     "metadata": {},
     "output_type": "execute_result"
    }
   ],
   "source": [
    "X = X_test[300]\n",
    "X.shape\n",
    "#y = y_test[300]"
   ]
  },
  {
   "cell_type": "code",
   "execution_count": 178,
   "metadata": {},
   "outputs": [],
   "source": [
    "def predict(model, X, y):\n",
    "    \n",
    "    # need to add the 4th dimension for the model\n",
    "    X = X[np.newaxis, ...]\n",
    "    \n",
    "    # prediction is a 2d array\n",
    "    predictions = model.predict(X)\n",
    "    \n",
    "    predicted_index = np.argmax(predictions, axis=1)\n",
    "    \n",
    "    return predicted_index, predictions\n",
    "    \n",
    "    "
   ]
  },
  {
   "cell_type": "code",
   "execution_count": 146,
   "metadata": {},
   "outputs": [],
   "source": [
    "prediction, nList = predict(model, X, y)"
   ]
  },
  {
   "cell_type": "code",
   "execution_count": 148,
   "metadata": {},
   "outputs": [
    {
     "data": {
      "text/plain": [
       "array([9], dtype=int64)"
      ]
     },
     "execution_count": 148,
     "metadata": {},
     "output_type": "execute_result"
    }
   ],
   "source": [
    "prediction"
   ]
  },
  {
   "cell_type": "code",
   "execution_count": 149,
   "metadata": {},
   "outputs": [
    {
     "data": {
      "text/plain": [
       "array([[0.00647148, 0.01127397, 0.14667226, 0.0015252 , 0.00349213,\n",
       "        0.00495348, 0.00171214, 0.03255328, 0.0121196 , 0.7792264 ]],\n",
       "      dtype=float32)"
      ]
     },
     "execution_count": 149,
     "metadata": {},
     "output_type": "execute_result"
    }
   ],
   "source": [
    "nList"
   ]
  },
  {
   "cell_type": "code",
   "execution_count": 150,
   "metadata": {},
   "outputs": [
    {
     "data": {
      "text/plain": [
       "9"
      ]
     },
     "execution_count": 150,
     "metadata": {},
     "output_type": "execute_result"
    }
   ],
   "source": [
    "y"
   ]
  },
  {
   "cell_type": "code",
   "execution_count": 87,
   "metadata": {},
   "outputs": [],
   "source": [
    "model.save('../models/cnn_model_80acc.h5')"
   ]
  },
  {
   "cell_type": "code",
   "execution_count": 256,
   "metadata": {},
   "outputs": [
    {
     "data": {
      "image/png": "[encoded data removed]",
      "text/plain": [
       "<Figure size 1728x1152 with 1 Axes>"
      ]
     },
     "metadata": {
      "needs_background": "light"
     },
     "output_type": "display_data"
    }
   ],
   "source": [
    "# Check out our train accuracy and test accuracy over epochs.\n",
    "train_loss = history.history['accuracy']\n",
    "test_loss = history.history['val_accuracy']\n",
    "\n",
    "# Set figure size.\n",
    "plt.figure(figsize=(24, 16))\n",
    "\n",
    "# Generate line plot of training, testing loss over epochs.\n",
    "plt.plot(train_loss, label='Training Accuracy', color='blue')\n",
    "plt.plot(test_loss, label='Testing Accuracy', color='red')\n",
    "\n",
    "# Set title\n",
    "plt.title('Training and Testing Accuracy by Epoch', fontsize = 25)\n",
    "plt.xlabel('Epoch', fontsize = 18)\n",
    "plt.ylabel('Accuracy', fontsize = 18)\n",
    "plt.xticks(range(0,160, 10), range(0,160, 10))\n",
    "\n",
    "plt.legend(fontsize = 18);"
   ]
  },
  {
   "cell_type": "code",
   "execution_count": null,
   "metadata": {},
   "outputs": [],
   "source": []
  }
 ],
 "metadata": {
  "kernelspec": {
   "display_name": "cnn-music-classifier",
   "language": "python",
   "name": "cnn-music-classifier"
  },
  "language_info": {
   "codemirror_mode": {
    "name": "ipython",
    "version": 3
   },
   "file_extension": ".py",
   "mimetype": "text/x-python",
   "name": "python",
   "nbconvert_exporter": "python",
   "pygments_lexer": "ipython3",
   "version": "3.7.9"
  }
 },
 "nbformat": 4,
 "nbformat_minor": 4
}
